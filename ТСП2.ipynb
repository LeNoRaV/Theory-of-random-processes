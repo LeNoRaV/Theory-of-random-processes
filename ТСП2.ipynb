{
  "nbformat": 4,
  "nbformat_minor": 0,
  "metadata": {
    "colab": {
      "provenance": []
    },
    "kernelspec": {
      "name": "python3",
      "display_name": "Python 3"
    },
    "language_info": {
      "name": "python"
    }
  },
  "cells": [
    {
      "cell_type": "code",
      "execution_count": null,
      "metadata": {
        "colab": {
          "base_uri": "https://localhost:8080/",
          "height": 78
        },
        "id": "vSc2iF5svUi7",
        "outputId": "4dde30e4-53d6-45f3-b759-88361517499e"
      },
      "outputs": [
        {
          "output_type": "execute_result",
          "data": {
            "text/plain": [
              "{((s**2 + 11*s + 18)/(s**3 + 18*s**2 + 73*s + 68), (2*s**3 + 36*s**2 + 174*s + 108)/(s**6 + 30*s**5 + 313*s**4 + 1376*s**3 + 2568*s**2 + 1632*s), (6*s**2 + 66*s + 108)/(s**6 + 30*s**5 + 313*s**4 + 1376*s**3 + 2568*s**2 + 1632*s), (2*s + 18)/(s**3 + 18*s**2 + 73*s + 68), (4*s + 8)/(s**3 + 18*s**2 + 73*s + 68), (s**2 + 27*s + 50)/(s**4 + 18*s**3 + 73*s**2 + 68*s), (24*s + 216)/(s**6 + 30*s**5 + 313*s**4 + 1376*s**3 + 2568*s**2 + 1632*s))}"
            ],
            "text/latex": "$\\displaystyle \\left\\{\\left( \\frac{s^{2} + 11 s + 18}{s^{3} + 18 s^{2} + 73 s + 68}, \\  \\frac{2 s^{3} + 36 s^{2} + 174 s + 108}{s^{6} + 30 s^{5} + 313 s^{4} + 1376 s^{3} + 2568 s^{2} + 1632 s}, \\  \\frac{6 s^{2} + 66 s + 108}{s^{6} + 30 s^{5} + 313 s^{4} + 1376 s^{3} + 2568 s^{2} + 1632 s}, \\  \\frac{2 s + 18}{s^{3} + 18 s^{2} + 73 s + 68}, \\  \\frac{4 s + 8}{s^{3} + 18 s^{2} + 73 s + 68}, \\  \\frac{s^{2} + 27 s + 50}{s^{4} + 18 s^{3} + 73 s^{2} + 68 s}, \\  \\frac{24 s + 216}{s^{6} + 30 s^{5} + 313 s^{4} + 1376 s^{3} + 2568 s^{2} + 1632 s}\\right)\\right\\}$"
          },
          "metadata": {},
          "execution_count": 1
        }
      ],
      "source": [
        "from sympy import *\n",
        "\n",
        "from sympy.solvers.solveset import linsolve\n",
        "\n",
        "p_1,p_2,p_3,p_4,p_5,p_6,p_7,s = symbols('p_1,p_2,p_3,p_4,p_5,p_6,p_7,s')\n",
        "\n",
        "M = Matrix(( (-7-s, 0, 0, 1, 5, 0, 0, -1), (0, -3-s, 3, 1, 0, 0, 0, 0), (0, 3, -7-s, 0, 0, 0, 2, 0), (2, 0, 0, -2-s, 0, 0, 0, 0), (4, 0, 0, 0, -9-s, 0, 0, 0), (1, 0, 0, 0, 4, -s, 0, 0), (0, 0, 4, 0, 0, 0, -2-s, 0) ))\n",
        "system = A, b = M[:, :-1], M[:, -1]\n",
        "linsolve(system, p_1,p_2,p_3,p_4,p_5,p_6,p_7)\n"
      ]
    },
    {
      "cell_type": "code",
      "source": [
        "M = Matrix(( (-7-s, 5, -1),(4,-9-s, 0) ))\n",
        "system = A, b = M[:, :-1], M[:, -1]\n",
        "linsolve(system, p_1,p_5)"
      ],
      "metadata": {
        "colab": {
          "base_uri": "https://localhost:8080/",
          "height": 58
        },
        "id": "jzIUBANg-lXY",
        "outputId": "af9dc25d-8b2f-4235-c195-3d54128994bf"
      },
      "execution_count": null,
      "outputs": [
        {
          "output_type": "execute_result",
          "data": {
            "text/plain": [
              "{((s + 9)/(s**2 + 16*s + 43), 4/(s**2 + 16*s + 43))}"
            ],
            "text/latex": "$\\displaystyle \\left\\{\\left( \\frac{s + 9}{s^{2} + 16 s + 43}, \\  \\frac{4}{s^{2} + 16 s + 43}\\right)\\right\\}$"
          },
          "metadata": {},
          "execution_count": 2
        }
      ]
    }
  ]
}